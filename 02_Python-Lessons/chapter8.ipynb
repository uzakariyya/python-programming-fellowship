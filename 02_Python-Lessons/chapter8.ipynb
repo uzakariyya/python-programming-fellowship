{
 "cells": [
  {
   "cell_type": "markdown",
   "metadata": {},
   "source": [
    "# Chapter 8 Functions"
   ]
  },
  {
   "cell_type": "markdown",
   "metadata": {},
   "source": [
    "### Learning Objectives for This Lecture  \n",
    "\n",
    "By the end of this chapter, you will be able to:\n",
    "\n",
    "1. Understand how to write functions, which are named blocks of code designed to perform specific tasks.  \n",
    "2. Learn how to call functions to execute the tasks they are designed for, avoiding code repetition.  \n",
    "3. Recognize how functions make programs easier to write, read, test, and fix.  \n",
    "4. Explore various ways to pass information to functions for processing.  \n",
    "5. Distinguish between functions that display information and those that process data and return values.  \n",
    "6. Learn how to store functions in separate files called modules to organize and manage program files effectively.  \n"
   ]
  },
  {
   "cell_type": "markdown",
   "metadata": {},
   "source": [
    "## Defining a Function\n",
    "\n",
    "<img src=\"../assets/function_definition_and_call.PNG\" width=\"70%\">"
   ]
  },
  {
   "cell_type": "code",
   "execution_count": null,
   "metadata": {},
   "outputs": [],
   "source": [
    "# Define a function\n",
    "def greet_user():\n",
    "    \"\"\"Display a simple greeting.\"\"\"\n",
    "    print(\"Hello!\")\n",
    "\n",
    "# calling the function\n",
    "# greet_user()"
   ]
  },
  {
   "cell_type": "code",
   "execution_count": null,
   "metadata": {},
   "outputs": [],
   "source": [
    "greet_user()"
   ]
  },
  {
   "cell_type": "code",
   "execution_count": null,
   "metadata": {},
   "outputs": [],
   "source": [
    "# Define a function\n",
    "def greet_user():\n",
    "    \"\"\"Display a simple greeting.\"\"\"\n",
    "    print(\"Hello!\")\n",
    "\n",
    "# calling the function\n",
    "greet_user()\n",
    "print(\"Outside the function\")"
   ]
  },
  {
   "cell_type": "markdown",
   "metadata": {},
   "source": [
    "## Function Syntax\n",
    "\n",
    "<img src=\"../assets/function_syntax.PNG\" width=\"70%\">"
   ]
  },
  {
   "cell_type": "code",
   "execution_count": null,
   "metadata": {},
   "outputs": [],
   "source": [
    "def sum(num1, num2):\n",
    "    \"\"\"Return the sum of two numbers.\"\"\"\n",
    "    return num1 + num2"
   ]
  },
  {
   "cell_type": "code",
   "execution_count": null,
   "metadata": {},
   "outputs": [],
   "source": [
    "print(sum(2,3))\n",
    "print(sum(3,4))"
   ]
  },
  {
   "cell_type": "code",
   "execution_count": null,
   "metadata": {},
   "outputs": [],
   "source": [
    "def greet_users():\n",
    "    return \" Hello user\""
   ]
  },
  {
   "cell_type": "code",
   "execution_count": null,
   "metadata": {},
   "outputs": [],
   "source": [
    "greet_users()"
   ]
  },
  {
   "cell_type": "markdown",
   "metadata": {},
   "source": [
    "## Passing Information to a Function"
   ]
  },
  {
   "cell_type": "code",
   "execution_count": null,
   "metadata": {},
   "outputs": [],
   "source": [
    "def greet_user(username):\n",
    "    \"\"\"Display a simple greeting.\"\"\"\n",
    "    print(f\"Hello, {username.title()}!\")\n",
    "    \n",
    "\n",
    "greet_user('jesse')\n",
    "greet_user('Jerry')\n",
    "greet_user('Adams')\n",
    "greet_user('Blessing')"
   ]
  },
  {
   "cell_type": "code",
   "execution_count": null,
   "metadata": {},
   "outputs": [],
   "source": [
    "let_me_in()"
   ]
  },
  {
   "cell_type": "markdown",
   "metadata": {},
   "source": [
    "<img src=\"../assets/passing_info_to_a_function.PNG\" width=\"70%\">"
   ]
  },
  {
   "cell_type": "markdown",
   "metadata": {},
   "source": [
    "## Arguments and Parameters\n",
    "\n",
    "- The variable username in the definition of greet_user() is an example of a `parameter`, a piece of information the function needs to do its job. \n",
    "- The value 'jesse' in greet_user('jesse') is an example of an `argument`. \n",
    "- An `argument` is a piece of information that’s passed from a function call to a function."
   ]
  },
  {
   "cell_type": "markdown",
   "metadata": {},
   "source": [
    "## Passing Arguments\n",
    "\n",
    "- Because a function definition can have multiple parameters, a function call may need multiple arguments. \n",
    "- You can pass arguments to your functions in a number of ways:\n",
    "  - You can use `positional arguments`, which need to be in the same order the parameters were written; \n",
    "  - keyword arguments, where each argument consists of a variable name and a value; and \n",
    "  - lists and dictionaries of values. \n",
    "\n",
    "Let’s look at each of these in turn."
   ]
  },
  {
   "cell_type": "markdown",
   "metadata": {},
   "source": [
    "## Positional Arguments"
   ]
  },
  {
   "cell_type": "code",
   "execution_count": null,
   "metadata": {},
   "outputs": [],
   "source": [
    "def describe_pet(animal_type, pet_name):\n",
    "    \"\"\"Display information about a pet.\"\"\"\n",
    "    print(f\"\\nI have a {animal_type}.\")\n",
    "    print(f\"My {animal_type}'s name is {pet_name.title()}.\")\n",
    "\n",
    "describe_pet('hamster', 'harry')"
   ]
  },
  {
   "cell_type": "markdown",
   "metadata": {},
   "source": [
    "## Multiple Function Calls"
   ]
  },
  {
   "cell_type": "code",
   "execution_count": null,
   "metadata": {},
   "outputs": [],
   "source": [
    "def describe_pet(animal_type, pet_name):\n",
    "    \"\"\"Display information about a pet.\"\"\"\n",
    "    print(f\"\\nI have a {animal_type}.\")\n",
    "    print(f\"My {animal_type}'s name is {pet_name.title()}.\")\n",
    "    \n",
    "describe_pet('hamster', 'harry')\n",
    "describe_pet('dog', 'willie')"
   ]
  },
  {
   "cell_type": "markdown",
   "metadata": {},
   "source": [
    "## Order Matters in Positional Arguments"
   ]
  },
  {
   "cell_type": "code",
   "execution_count": null,
   "metadata": {},
   "outputs": [],
   "source": [
    "def describe_pet(animal_type, pet_name):\n",
    "    \"\"\"Display information about a pet.\"\"\"\n",
    "    print(f\"\\nI have a {animal_type}.\")\n",
    "    print(f\"My {animal_type}'s name is {pet_name.title()}.\")\n",
    "\n",
    "describe_pet('harry', 'hamster')"
   ]
  },
  {
   "cell_type": "markdown",
   "metadata": {},
   "source": [
    "## Keyword Arguments\n",
    "\n",
    "- A keyword argument is a name-value pair that you pass to a function.  \n",
    "- Keyword arguments free you from having to worry about correctly ordering your arguments in the function call, and they clarify the role of each value in the function call"
   ]
  },
  {
   "cell_type": "code",
   "execution_count": null,
   "metadata": {},
   "outputs": [],
   "source": [
    "def describe_pet(animal_type, pet_name):\n",
    "    \"\"\"Display information about a pet.\"\"\"\n",
    "    print(f\"\\nI have a {animal_type}.\")\n",
    "    print(f\"My {animal_type}'s name is {pet_name.title()}.\")\n",
    "\n",
    "describe_pet(animal_type='hamster', pet_name='harry')\n",
    "describe_pet(pet_name='harry', animal_type='hamster')"
   ]
  },
  {
   "cell_type": "markdown",
   "metadata": {},
   "source": [
    "> The order of keyword arguments doesn’t matter because Python knows where each value should go. \n",
    "The following two function calls are equivalent:"
   ]
  },
  {
   "cell_type": "code",
   "execution_count": null,
   "metadata": {},
   "outputs": [],
   "source": [
    "describe_pet(animal_type='hamster', pet_name='harry')\n",
    "describe_pet(pet_name='harry', animal_type='hamster')"
   ]
  },
  {
   "cell_type": "markdown",
   "metadata": {},
   "source": [
    "![Note]\n",
    "When you use keyword arguments, be sure to use the exact names of the parameters in\n",
    "the function’s definition."
   ]
  },
  {
   "cell_type": "markdown",
   "metadata": {},
   "source": [
    "## Default Values"
   ]
  },
  {
   "cell_type": "code",
   "execution_count": null,
   "metadata": {},
   "outputs": [],
   "source": [
    "def describe_pet(pet_name, animal_type='dog'):\n",
    "    \"\"\"Display information about a pet.\"\"\"\n",
    "    print(f\"\\nI have a {animal_type}.\")\n",
    "    print(f\"My {animal_type}'s name is {pet_name.title()}.\")\n",
    "    \n",
    "describe_pet(pet_name='willie')"
   ]
  },
  {
   "cell_type": "code",
   "execution_count": null,
   "metadata": {},
   "outputs": [],
   "source": []
  },
  {
   "cell_type": "markdown",
   "metadata": {},
   "source": [
    "## Equivalent Function Calls\n",
    "\n",
    "- Because positional arguments, keyword arguments, and default values can all be used together, you’ll often have several equivalent ways to call a function. \n",
    "- Consider the following definition for `describe_pet()` with one default value provided:"
   ]
  },
  {
   "cell_type": "code",
   "execution_count": null,
   "metadata": {},
   "outputs": [],
   "source": [
    "# All of the following calls would work for this function:\n",
    "\n",
    "# A dog named Willie.\n",
    "describe_pet('willie')\n",
    "describe_pet(pet_name='willie')\n",
    "\n",
    "# A hamster named Harry.\n",
    "describe_pet('harry', 'hamster')\n",
    "describe_pet(pet_name='harry', animal_type='hamster')\n",
    "describe_pet(animal_type='hamster', pet_name='harry')"
   ]
  },
  {
   "cell_type": "markdown",
   "metadata": {},
   "source": [
    "## Avoiding Argument Errors"
   ]
  },
  {
   "cell_type": "code",
   "execution_count": null,
   "metadata": {},
   "outputs": [],
   "source": [
    "def describe_pet(animal_type, pet_name):\n",
    "    \"\"\"Display information about a pet.\"\"\"\n",
    "    print(f\"\\nI have a {animal_type}.\")\n",
    "    print(f\"My {animal_type}'s name is {pet_name.title()}.\")\n",
    "    \n",
    "describe_pet()"
   ]
  },
  {
   "cell_type": "markdown",
   "metadata": {},
   "source": [
    "## Return Values\n",
    "\n",
    "A function doesn’t always have to display its output directly. Instead, it can\n",
    "process some data and then return a value or set of values."
   ]
  },
  {
   "cell_type": "markdown",
   "metadata": {},
   "source": [
    "### Returning a Simple Value"
   ]
  },
  {
   "cell_type": "code",
   "execution_count": null,
   "metadata": {},
   "outputs": [],
   "source": [
    "def get_formatted_name(first_name, last_name):\n",
    "    \"\"\"Return a full name, neatly formatted.\"\"\"\n",
    "    full_name = f\"{first_name} {last_name}\"\n",
    "    return full_name.title()\n",
    "\n",
    "musician = get_formatted_name('jimi', 'hendrix')\n",
    "print(musician)"
   ]
  },
  {
   "cell_type": "markdown",
   "metadata": {},
   "source": [
    "## Making an Argument Optional"
   ]
  },
  {
   "cell_type": "code",
   "execution_count": null,
   "metadata": {},
   "outputs": [],
   "source": [
    "def get_formatted_name(first_name, middle_name, last_name):\n",
    "    \"\"\"Return a full name, neatly formatted.\"\"\"\n",
    "    full_name = f\"{first_name} {middle_name} {last_name}\"\n",
    "    return full_name.title()\n",
    "\n",
    "musician = get_formatted_name('john', 'lee', 'hooker')\n",
    "print(musician)"
   ]
  },
  {
   "cell_type": "code",
   "execution_count": null,
   "metadata": {},
   "outputs": [],
   "source": [
    "def get_formatted_name(first_name, last_name, middle_name=''):\n",
    "    \"\"\"Return a full name, neatly formatted.\"\"\"\n",
    "    if middle_name:\n",
    "        full_name = f\"{first_name} {middle_name} {last_name}\"\n",
    "    else:\n",
    "        full_name = f\"{first_name} {last_name}\"\n",
    "    return full_name.title()\n",
    "\n",
    "musician = get_formatted_name('jimi', 'hendrix')\n",
    "print(musician)"
   ]
  },
  {
   "cell_type": "markdown",
   "metadata": {},
   "source": [
    "## Returning a Dictionary  \n"
   ]
  },
  {
   "cell_type": "code",
   "execution_count": null,
   "metadata": {},
   "outputs": [],
   "source": [
    "def build_person(first_name, last_name):\n",
    "    \"\"\"Return a dictionary of information about a person.\"\"\"\n",
    "    person = {'first': first_name, 'last': last_name}\n",
    "    return person\n",
    "\n",
    "musician = build_person('jimi', 'hendrix')\n",
    "print(musician)"
   ]
  },
  {
   "cell_type": "markdown",
   "metadata": {},
   "source": [
    "You can easily extend this function to accept\n",
    "optional values like a middle name, an age, an occupation, or any other\n",
    "information you want to store about a person\n",
    "\n"
   ]
  },
  {
   "cell_type": "code",
   "execution_count": null,
   "metadata": {},
   "outputs": [],
   "source": [
    "def build_person(first_name, last_name, age=None):\n",
    "    \"\"\"Return a dictionary of information about a person.\"\"\"\n",
    "    person = {'first': first_name, 'last': last_name}\n",
    "    if age:\n",
    "        person['age'] = age\n",
    "    return person\n",
    "\n",
    "musician = build_person('jimi', 'hendrix', age=27)\n",
    "print(musician)"
   ]
  },
  {
   "cell_type": "markdown",
   "metadata": {},
   "source": [
    "## Using a Function with a while Loop"
   ]
  },
  {
   "cell_type": "code",
   "execution_count": null,
   "metadata": {},
   "outputs": [],
   "source": [
    "def get_formatted_name(first_name, last_name):\n",
    "    \"\"\"Return a full name, neatly formatted.\"\"\"\n",
    "    full_name = f\"{first_name} {last_name}\"\n",
    "    return full_name.title()\n",
    "# This is an infinite loop!\n",
    "while True:\n",
    "    print(\"\\nPlease tell me your name:\")\n",
    "    f_name = input(\"First name: \")\n",
    "    l_name = input(\"Last name: \")\n",
    "    \n",
    "formatted_name = get_formatted_name(f_name, l_name)\n",
    "print(f\"\\nHello, {formatted_name}!\")"
   ]
  },
  {
   "cell_type": "code",
   "execution_count": null,
   "metadata": {},
   "outputs": [],
   "source": [
    "def get_formatted_name(first_name, last_name):\n",
    "    \"\"\"Return a full name, neatly formatted.\"\"\"\n",
    "    full_name = f\"{first_name} {last_name}\"\n",
    "    return full_name.title()\n",
    "while True:\n",
    "    print(\"\\nPlease tell me your name:\")\n",
    "    print(\"(enter 'q' at any time to quit)\")\n",
    "    f_name = input(\"First name: \")\n",
    "    if f_name == 'q':\n",
    "        break\n",
    "    l_name = input(\"Last name: \")\n",
    "    if l_name == 'q':\n",
    "        break\n",
    "    \n",
    "formatted_name = get_formatted_name(f_name, l_name)\n",
    "print(f\"\\nHello, {formatted_name}!\")"
   ]
  },
  {
   "cell_type": "markdown",
   "metadata": {},
   "source": [
    "## Passing a List"
   ]
  },
  {
   "cell_type": "code",
   "execution_count": 2,
   "metadata": {},
   "outputs": [
    {
     "name": "stdout",
     "output_type": "stream",
     "text": [
      "Hello, Hannah!\n",
      "Hello, Ty!\n",
      "Hello, Margot!\n"
     ]
    }
   ],
   "source": [
    "def greet_users(names):\n",
    "    \"\"\"Print a simple greeting to each user in the list.\"\"\"\n",
    "    for name in names:\n",
    "        msg = f\"Hello, {name.title()}!\"\n",
    "        print(msg)\n",
    "\n",
    "usernames = ['hannah', 'ty', 'margot']\n",
    "greet_users(usernames)"
   ]
  },
  {
   "cell_type": "markdown",
   "metadata": {},
   "source": [
    "## Modifying a List in a Function"
   ]
  },
  {
   "cell_type": "code",
   "execution_count": 3,
   "metadata": {},
   "outputs": [
    {
     "name": "stdout",
     "output_type": "stream",
     "text": [
      "Printing model: dodecahedron\n",
      "Printing model: robot pendant\n",
      "Printing model: phone case\n",
      "\n",
      "The following models have been printed:\n",
      "dodecahedron\n",
      "robot pendant\n",
      "phone case\n"
     ]
    }
   ],
   "source": [
    "# Start with some designs that need to be printed.\n",
    "unprinted_designs = ['phone case', 'robot pendant', 'dodecahedron']\n",
    "completed_models = []\n",
    "# Simulate printing each design, until none are left.\n",
    "# Move each design to completed_models after printing.\n",
    "while unprinted_designs:\n",
    "    current_design = unprinted_designs.pop()\n",
    "    print(f\"Printing model: {current_design}\")\n",
    "    completed_models.append(current_design)\n",
    "# Display all completed models.\n",
    "print(\"\\nThe following models have been printed:\")\n",
    "for completed_model in completed_models:\n",
    "    print(completed_model)"
   ]
  },
  {
   "cell_type": "markdown",
   "metadata": {},
   "source": [
    "> We can reorganize this code by:\n",
    "- writing two functions, each of which does one specific job. Most of the code won’t change; we’re just structuring it more carefully. \n",
    "- The first function will handle printing the designs, and \n",
    "- the second will summarize the prints that hav"
   ]
  },
  {
   "cell_type": "code",
   "execution_count": 4,
   "metadata": {},
   "outputs": [
    {
     "name": "stdout",
     "output_type": "stream",
     "text": [
      "Printing model: dodecahedron\n",
      "Printing model: robot pendant\n",
      "Printing model: phone case\n",
      "\n",
      "The following models have been printed:\n",
      "dodecahedron\n",
      "robot pendant\n",
      "phone case\n"
     ]
    }
   ],
   "source": [
    "def print_models(unprinted_designs, completed_models):\n",
    "    \"\"\"\n",
    "    Simulate printing each design, until none are left.\n",
    "    Move each design to completed_models after printing.\n",
    "    \"\"\"\n",
    "    while unprinted_designs:\n",
    "        current_design = unprinted_designs.pop()\n",
    "        print(f\"Printing model: {current_design}\")\n",
    "        completed_models.append(current_design)\n",
    "\n",
    "def show_completed_models(completed_models):\n",
    "    \"\"\"Show all the models that were printed.\"\"\"\n",
    "    print(\"\\nThe following models have been printed:\")\n",
    "    for completed_model in completed_models:\n",
    "        print(completed_model)\n",
    "        \n",
    "unprinted_designs = ['phone case', 'robot pendant', 'dodecahedron']\n",
    "completed_models = []\n",
    "print_models(unprinted_designs, completed_models)\n",
    "show_completed_models(completed_models)"
   ]
  },
  {
   "cell_type": "markdown",
   "metadata": {},
   "source": [
    "We define the function `print_models()` with two parameters: \n",
    "- a list of designs that need to be printed and a list of completed models. \n",
    "- Given these two lists, the function simulates printing each design by emptying the list of unprinted designs and filling up the list of completed models. \n",
    "- We then define the function `show_completed_models()` with one parameter: the list of completed models \n",
    "- Given this list, `show_completed_models()` displays the name of each model that was printed.\n",
    "- This program has the same output as the version without functions, but the code is much more organized. \n",
    "- The code that does most of the work has been moved to two separate functions, which makes the main part of the program easier to understand. \n",
    "- Look at the body of the program and notice how easily you can follow what’s happening:"
   ]
  },
  {
   "cell_type": "code",
   "execution_count": null,
   "metadata": {},
   "outputs": [],
   "source": [
    "unprinted_designs = ['phone case', 'robot pendant', 'dodecahedron']\n",
    "completed_models = []\n",
    "\n",
    "print_models(unprinted_designs, completed_models)\n",
    "show_completed_models(completed_models)"
   ]
  },
  {
   "cell_type": "markdown",
   "metadata": {},
   "source": [
    "## Preventing a Function from Modifying a List\n",
    "\n",
    "- Sometimes, you may want to preserve the original list while allowing a function to work with a copy of it.  \n",
    "- For example, if you move items from an \"unprinted designs\" list to a \"completed models\" list, the original list becomes empty.  \n",
    "- This can be an issue if you want to keep the original list for records or future reference.  \n",
    "- To avoid modifying the original list, pass a copy of the list to the function instead of the original.  \n",
    "- Any changes the function makes will only affect the copy, leaving the original list untouched.  \n",
    "\n",
    "\n",
    "You can send a copy of a list to a function like this:\n",
    "<hr>\n",
    "\n",
    "```python\n",
    "function_name(list_name[:])\n",
    "```\n",
    "\n",
    "<hr>"
   ]
  },
  {
   "cell_type": "code",
   "execution_count": 5,
   "metadata": {},
   "outputs": [],
   "source": [
    "list_a = ['phone case', 'robot pendant', 'dodecahedron']\n",
    "\n",
    "list_b = list_a"
   ]
  },
  {
   "cell_type": "code",
   "execution_count": 6,
   "metadata": {},
   "outputs": [
    {
     "name": "stdout",
     "output_type": "stream",
     "text": [
      "['phone case', 'robot pendant', 'dodecahedron']\n",
      "['phone case', 'robot pendant', 'dodecahedron']\n"
     ]
    }
   ],
   "source": [
    "print(list_a)\n",
    "print(list_b)"
   ]
  },
  {
   "cell_type": "code",
   "execution_count": 12,
   "metadata": {},
   "outputs": [],
   "source": [
    "list_a[0] = 'phone case'"
   ]
  },
  {
   "cell_type": "code",
   "execution_count": 10,
   "metadata": {},
   "outputs": [],
   "source": [
    "list_c = list_a[:]"
   ]
  },
  {
   "cell_type": "code",
   "execution_count": 13,
   "metadata": {},
   "outputs": [
    {
     "name": "stdout",
     "output_type": "stream",
     "text": [
      "['phone case', 'robot pendant', 'dodecahedron']\n",
      "['phone charger', 'robot pendant', 'dodecahedron']\n"
     ]
    }
   ],
   "source": [
    "print(list_a)\n",
    "print(list_c)"
   ]
  },
  {
   "cell_type": "code",
   "execution_count": 9,
   "metadata": {},
   "outputs": [
    {
     "name": "stdout",
     "output_type": "stream",
     "text": [
      "['phone charger', 'robot pendant', 'dodecahedron']\n"
     ]
    }
   ],
   "source": [
    "print(list_b)"
   ]
  },
  {
   "cell_type": "code",
   "execution_count": 14,
   "metadata": {},
   "outputs": [],
   "source": [
    "print_models(unprinted_designs[:], completed_models) # unprinted_designs[:] copies the original list to the function"
   ]
  },
  {
   "cell_type": "markdown",
   "metadata": {},
   "source": [
    "## Passing an Arbitrary Number of Arguments\n",
    "- Sometimes you won’t know ahead of time how many arguments a function needs to accept. \n",
    "- Fortunately, Python allows a function to collect an arbitrary number of arguments from the calling statement.\n",
    "- The function in the following example has one parameter, *toppings, but this parameter collects as many arguments as the calling line\n",
    "provides:"
   ]
  },
  {
   "cell_type": "code",
   "execution_count": 17,
   "metadata": {},
   "outputs": [
    {
     "name": "stdout",
     "output_type": "stream",
     "text": [
      "\n",
      "Hello\n",
      "hello World!\n"
     ]
    }
   ],
   "source": [
    "print()\n",
    "print(\"Hello\")\n",
    "print(\"hello\",\"World!\")"
   ]
  },
  {
   "cell_type": "code",
   "execution_count": 18,
   "metadata": {},
   "outputs": [
    {
     "name": "stdout",
     "output_type": "stream",
     "text": [
      "('pepperoni',)\n",
      "('mushrooms', 'green peppers', 'extra cheese')\n"
     ]
    }
   ],
   "source": [
    "def make_pizza(*toppings):\n",
    "    \"\"\"Print the list of toppings that have been requested.\"\"\"\n",
    "    print(toppings)\n",
    "make_pizza('pepperoni')\n",
    "make_pizza('mushrooms', 'green peppers', 'extra cheese')"
   ]
  },
  {
   "cell_type": "markdown",
   "metadata": {},
   "source": [
    "> The asterisk in the parameter name `*toppings` tells Python to make a tuple called toppings, containing all the values this function \n",
    "receives.\n",
    "\n",
    "Now we can replace the print() call with a loop that runs through the\n",
    "list of toppings and describes the pizza being ordered:"
   ]
  },
  {
   "cell_type": "code",
   "execution_count": 21,
   "metadata": {},
   "outputs": [
    {
     "name": "stdout",
     "output_type": "stream",
     "text": [
      "\n",
      "Making a pizza with the following toppings:\n",
      "1 pepperoni\n",
      "\n",
      "Making a pizza with the following toppings:\n",
      "1 mushrooms\n",
      "2 green peppers\n",
      "3 extra cheese\n"
     ]
    }
   ],
   "source": [
    "def make_pizza(*toppings):\n",
    "    \"\"\"Summarize the pizza we are about to make.\"\"\"\n",
    "    print(\"\\nMaking a pizza with the following toppings:\")\n",
    "    counter = 0\n",
    "    for topping in toppings:\n",
    "        counter += 1\n",
    "        print(f\"{counter} {topping}\")\n",
    "make_pizza('pepperoni')\n",
    "make_pizza('mushrooms', 'green peppers', 'extra cheese')"
   ]
  },
  {
   "cell_type": "code",
   "execution_count": 22,
   "metadata": {},
   "outputs": [],
   "source": [
    "def sum_numbers(num1, num2):\n",
    "    return num1 + num2"
   ]
  },
  {
   "cell_type": "code",
   "execution_count": 25,
   "metadata": {},
   "outputs": [
    {
     "name": "stdout",
     "output_type": "stream",
     "text": [
      "10\n"
     ]
    }
   ],
   "source": [
    "print(sum_numbers(7,3))"
   ]
  },
  {
   "cell_type": "code",
   "execution_count": 26,
   "metadata": {},
   "outputs": [],
   "source": [
    "def print_student_name(first_name, last_name):\n",
    "    print(f\"Your first name is {first_name} and your last name is {last_name}\")"
   ]
  },
  {
   "cell_type": "code",
   "execution_count": 27,
   "metadata": {},
   "outputs": [
    {
     "name": "stdout",
     "output_type": "stream",
     "text": [
      "Your first name is Merry and your last name is Adamu\n",
      "Your first name is Adamu and your last name is Merry\n"
     ]
    }
   ],
   "source": [
    "print_student_name(\"Merry\", \"Adamu\")\n",
    "print_student_name( \"Adamu\",\"Merry\")"
   ]
  },
  {
   "cell_type": "markdown",
   "metadata": {},
   "source": [
    "* make\n",
    "* make_pizza('\n",
    "* {topping"
   ]
  },
  {
   "cell_type": "markdown",
   "metadata": {},
   "source": [
    "## Mixing Positional and Arbitrary Arguments\n",
    "\n",
    "- To allow a function to accept several different kinds of arguments, the parameter for arbitrary arguments must be placed last in the function definition.  \n",
    "- Python processes positional and keyword arguments first before collecting any remaining arguments into the final parameter. \n",
    "- For example, if the function needs to take in a size for the pizza, that parameter must come before the parameter `*toppings`: \n"
   ]
  },
  {
   "cell_type": "code",
   "execution_count": 28,
   "metadata": {},
   "outputs": [
    {
     "name": "stdout",
     "output_type": "stream",
     "text": [
      "\n",
      "Making a 16-inch pizza with the following toppings:\n",
      "- pepperoni\n",
      "\n",
      "Making a 12-inch pizza with the following toppings:\n",
      "- mushrooms\n",
      "- green peppers\n",
      "- extra cheese\n"
     ]
    }
   ],
   "source": [
    "def make_pizza(size, *toppings):\n",
    "    \"\"\"Summarize the pizza we are about to make.\"\"\"\n",
    "    print(f\"\\nMaking a {size}-inch pizza with the following toppings:\")\n",
    "    for topping in toppings:\n",
    "        print(f\"- {topping}\")\n",
    "make_pizza(16, 'pepperoni')\n",
    "make_pizza(12, 'mushrooms', 'green peppers', 'extra cheese')"
   ]
  },
  {
   "cell_type": "markdown",
   "metadata": {},
   "source": [
    "## Using Arbitrary Keyword Arguments\n",
    "\n",
    "The function build_profile() in the following example always takes in a first and last name, but it accepts an\n",
    "arbitrary number of keyword arguments as well:"
   ]
  },
  {
   "cell_type": "code",
   "execution_count": 30,
   "metadata": {},
   "outputs": [
    {
     "name": "stdout",
     "output_type": "stream",
     "text": [
      "{'location': 'princeton', 'field': 'physics', 'first_name': 'albert', 'last_name': 'einstein'}\n"
     ]
    }
   ],
   "source": [
    "def build_profile(first, last, **user_info):\n",
    "    \"\"\"Build a dictionary containing all the user's information.\"\"\"\n",
    "    user_info['first_name'] = first\n",
    "    user_info['last_name'] = last\n",
    "    return user_info\n",
    "user_profile = build_profile('albert', 'einstein', location='princeton',field='physics')\n",
    "print(user_profile)"
   ]
  },
  {
   "cell_type": "markdown",
   "metadata": {},
   "source": [
    "- The `build_profile()` function expects mandatory arguments like a first and last name.  \n",
    "- It allows users to pass any number of additional name-value pairs as arguments.  \n",
    "- The double asterisks (`**user_info`) create a dictionary, `user_info`, containing all the extra name-value pairs passed to the function.  \n",
    "- Within the function, you can access the key-value pairs in `user_info` just like any other dictionary.  \n",
    "\n",
    "\n",
    "You’ll often see the parameter name `**kwargs` used to collect nonspecific keyword arguments."
   ]
  },
  {
   "cell_type": "markdown",
   "metadata": {},
   "source": [
    "## Storing Functions in Modules\n",
    "\n",
    "- Functions help separate blocks of code from the main program, making programs easier to follow.  \n",
    "- Using descriptive function names improves readability and understanding of the program.  \n",
    "- Functions can be stored in a separate file, called a module, and imported into the main program using an import statement.  \n",
    "- Storing functions in modules allows:  \n",
    "  - Hiding code details while focusing on high-level logic.  \n",
    "  - Reusing functions across different programs.  \n",
    "  - Sharing individual modules with other programmers without sharing the entire program.  \n",
    "- Importing functions enables access to libraries written by other programmers.  \n",
    "- There are multiple ways to import modules, which will be briefly explored.  \n",
    "\n"
   ]
  },
  {
   "cell_type": "markdown",
   "metadata": {},
   "source": [
    "### Importing an Entire Module\n",
    "\n",
    "- To start importing functions, we first need to create a module. \n",
    "- A module is a file ending in .py that contains the code you want to import into your program. \n",
    "- Let’s make a module that contains the function make_pizza(). \n",
    "- To make this module, we’ll remove everything from the file `pizza.py` except the function make_pizza():\n",
    "<hr>\n",
    "\n",
    "```python\n",
    "def make_pizza(size, *toppings):\n",
    "    \"\"\"Summarize the pizza we are about to make.\"\"\"\n",
    "    print(f\"\\nMaking a {size}-inch pizza with the following toppings:\")\n",
    "    for topping in toppings:\n",
    "        print(f\"- {topping}\")\n",
    "```\n",
    "<hr>"
   ]
  },
  {
   "cell_type": "code",
   "execution_count": 33,
   "metadata": {},
   "outputs": [],
   "source": [
    "import pandas"
   ]
  },
  {
   "cell_type": "code",
   "execution_count": null,
   "metadata": {},
   "outputs": [],
   "source": [
    "pandas.read_csv()\n",
    "pandas.read_excel()\n",
    "pandas.read_json()"
   ]
  },
  {
   "cell_type": "code",
   "execution_count": 32,
   "metadata": {},
   "outputs": [
    {
     "name": "stdout",
     "output_type": "stream",
     "text": [
      "\n",
      "Making a 16-inch pizza with the following toppings:\n",
      "- pepperoni\n",
      "\n",
      "Making a 12-inch pizza with the following toppings:\n",
      "- mushrooms\n",
      "- green peppers\n",
      "- extra cheese\n"
     ]
    }
   ],
   "source": [
    "import pizza\n",
    "\n",
    "pizza.make_pizza(16, 'pepperoni')\n",
    "pizza.make_pizza(12, 'mushrooms', 'green peppers', 'extra cheese')"
   ]
  },
  {
   "cell_type": "code",
   "execution_count": null,
   "metadata": {},
   "outputs": [],
   "source": [
    "pizza.make_pizza"
   ]
  },
  {
   "cell_type": "markdown",
   "metadata": {},
   "source": [
    "You can place your code into directories"
   ]
  },
  {
   "cell_type": "code",
   "execution_count": 36,
   "metadata": {},
   "outputs": [
    {
     "name": "stdout",
     "output_type": "stream",
     "text": [
      "\n",
      "Making a 16-inch pizza with the following toppings:\n",
      "- pepperoni\n"
     ]
    }
   ],
   "source": [
    "import module.pizza as pz\n",
    "pz.make_pizza(16, 'pepperoni')"
   ]
  },
  {
   "cell_type": "markdown",
   "metadata": {},
   "source": [
    "If you use this kind of import statement to import an entire module named `module_name.py`, each function in the module is available through the following syntax:\n",
    "<br><hr>\n",
    "\n",
    "```python\n",
    "module_name.function_name()\n",
    "```\n",
    "\n",
    "<hr>\n"
   ]
  },
  {
   "cell_type": "markdown",
   "metadata": {},
   "source": [
    "## Importing Specific Functions\n",
    "You can also import a specific function from a module. Here’s the general\n",
    "syntax for this approach:\n",
    "<br><hr>\n",
    "\n",
    "```python\n",
    "from module_name import function_name\n",
    "```\n",
    "\n",
    "<hr>"
   ]
  },
  {
   "cell_type": "code",
   "execution_count": 34,
   "metadata": {},
   "outputs": [
    {
     "name": "stdout",
     "output_type": "stream",
     "text": [
      "\n",
      "Making a 16-inch pizza with the following toppings:\n",
      "- pepperoni\n",
      "\n",
      "Making a 12-inch pizza with the following toppings:\n",
      "- mushrooms\n",
      "- green peppers\n",
      "- extra cheese\n"
     ]
    }
   ],
   "source": [
    "from pizza import make_pizza\n",
    "\n",
    "make_pizza(16, 'pepperoni')\n",
    "make_pizza(12, 'mushrooms', 'green peppers', 'extra cheese')"
   ]
  },
  {
   "cell_type": "markdown",
   "metadata": {},
   "source": [
    "## Using as to Give a Function an Alias\n",
    "\n",
    "- Sometimes, you may want to give a function a different name that is easier to remember.  \n",
    "- You can use the `as` keyword to create an alias for a function.  \n",
    "- For example, instead of calling `make_pizza()`, you can call it `mp`:\n",
    "\n",
    "<br><hr>\n",
    "\n",
    "```python\n",
    "from pizza import make_pizza as mp\n",
    "\n",
    "mp(16, 'pepperoni')\n",
    "mp(12, 'mushrooms', 'green peppers', 'extra cheese')\n",
    "\n",
    "```\n",
    "<hr>"
   ]
  },
  {
   "cell_type": "code",
   "execution_count": 37,
   "metadata": {},
   "outputs": [
    {
     "name": "stdout",
     "output_type": "stream",
     "text": [
      "\n",
      "Making a 16-inch pizza with the following toppings:\n",
      "- pepperoni\n",
      "\n",
      "Making a 12-inch pizza with the following toppings:\n",
      "- mushrooms\n",
      "- green peppers\n",
      "- extra cheese\n"
     ]
    }
   ],
   "source": [
    "from pizza import make_pizza as mp\n",
    "\n",
    "mp(16, 'pepperoni')\n",
    "mp(12, 'mushrooms', 'green peppers', 'extra cheese')"
   ]
  },
  {
   "cell_type": "markdown",
   "metadata": {},
   "source": [
    "## Using as to Give a Module an Alias\n",
    "\n"
   ]
  },
  {
   "cell_type": "code",
   "execution_count": 38,
   "metadata": {},
   "outputs": [
    {
     "name": "stdout",
     "output_type": "stream",
     "text": [
      "\n",
      "Making a 16-inch pizza with the following toppings:\n",
      "- pepperoni\n",
      "\n",
      "Making a 12-inch pizza with the following toppings:\n",
      "- mushrooms\n",
      "- green peppers\n",
      "- extra cheese\n"
     ]
    }
   ],
   "source": [
    "import pizza as p\n",
    "\n",
    "p.make_pizza(16, 'pepperoni')\n",
    "p.make_pizza(12, 'mushrooms', 'green peppers', 'extra cheese')"
   ]
  },
  {
   "cell_type": "markdown",
   "metadata": {},
   "source": [
    "## Importing All Functions in a Module\n",
    "You can tell Python to import every function in a module by using the asterisk `(*)` operator:"
   ]
  },
  {
   "cell_type": "code",
   "execution_count": 39,
   "metadata": {},
   "outputs": [
    {
     "name": "stdout",
     "output_type": "stream",
     "text": [
      "\n",
      "Making a 16-inch pizza with the following toppings:\n",
      "- pepperoni\n",
      "\n",
      "Making a 12-inch pizza with the following toppings:\n",
      "- mushrooms\n",
      "- green peppers\n",
      "- extra cheese\n"
     ]
    }
   ],
   "source": [
    "from pizza import *\n",
    "\n",
    "make_pizza(16, 'pepperoni')\n",
    "make_pizza(12, 'mushrooms', 'green peppers', 'extra cheese')"
   ]
  },
  {
   "cell_type": "markdown",
   "metadata": {},
   "source": [
    "### Key Points: Using `from module_name import *`\n",
    "\n",
    "- The asterisk (`*`) in an import statement copies every function from a module into the current program.  \n",
    "- This allows calling functions directly by name without using dot notation.  \n",
    "- **Drawbacks of this approach:**  \n",
    "  - It's unsuitable for large modules you didn’t write, as function or variable name conflicts may arise.  \n",
    "  - Python might overwrite functions or variables with matching names, leading to unexpected behavior.  \n",
    "- **Best practices:**  \n",
    "  - Import only the specific functions you need.  \n",
    "  - Alternatively, import the entire module and use dot notation to maintain clarity.  \n",
    "- Recognizing `from module_name import *` in others' code is important, but avoid using it in your own projects for better readability and maintainability.  \n"
   ]
  },
  {
   "cell_type": "markdown",
   "metadata": {},
   "source": [
    "### Function Styling Guidelines\n",
    "\n",
    "1. **Descriptive Naming**  \n",
    "   - Use lowercase letters and underscores for function and module names.  \n",
    "   - Choose names that clearly indicate the purpose of the function or module.  \n",
    "\n",
    "2. **Documentation**  \n",
    "   - Each function should have a concise comment using the **docstring format** (`\"\"\"...\"\"\"`) directly below the function definition.  \n",
    "   - Docstrings should describe the function's purpose, required arguments, and return values.  \n",
    "\n",
    "3. **Default Parameter Values**  \n",
    "   - Avoid spaces around the equal sign when specifying default values:  \n",
    "     ```python\n",
    "     def function_name(parameter_0, parameter_1='default value')\n",
    "     ```\n",
    "   - Use the same convention for keyword arguments in function calls:  \n",
    "     ```python\n",
    "     function_name(value_0, parameter_1='value')\n",
    "     ```\n",
    "\n",
    "4. **Line Length**  \n",
    "   - Limit each line to **79 characters**, per **PEP 8** guidelines, to ensure readability.  \n",
    "\n",
    "5. **Handling Long Function Definitions**  \n",
    "   - If parameters exceed 79 characters, break the line after the opening parenthesis:  \n",
    "     ```python\n",
    "     def long_function_name(\n",
    "             parameter_0, parameter_1, parameter_2):\n",
    "         # Function body here\n",
    "     ```\n",
    "   - Indent the subsequent lines of arguments with two TABs, while the body of the function remains one level indented.  \n",
    "\n",
    "6. **Editor Support**  \n",
    "   - Most code editors will automatically align additional lines of parameters to match your established indentation style.  \n",
    "\n",
    "7. **Follow PEP 8**  \n",
    "   - Adhering to [PEP 8](https://www.python.org/dev/peps/pep-0008) ensures consistent, clean, and professional code formatting.\n"
   ]
  },
  {
   "cell_type": "code",
   "execution_count": null,
   "metadata": {},
   "outputs": [],
   "source": [
    "def function_name(\n",
    "    parameter_0, parameter_1, parameter_2,\n",
    "    parameter_3, parameter_4, parameter_5):\n",
    "    function body..."
   ]
  },
  {
   "cell_type": "markdown",
   "metadata": {},
   "source": [
    "## Summary\n",
    "\n",
    "1. **Key Concepts Learned**  \n",
    "   - Writing functions to encapsulate specific tasks.  \n",
    "   - Passing arguments to functions using positional, keyword, and arbitrary arguments.  \n",
    "   - Utilizing functions to display output and return values.  \n",
    "   - Combining functions with lists, dictionaries, if statements, and while loops.  \n",
    "\n",
    "2. **Organizing Code**  \n",
    "   - Storing functions in separate files (modules) for cleaner and more organized program files.  \n",
    "   - Styling functions for readability and better program structure.  \n",
    "\n",
    "3. **Benefits of Functions**  \n",
    "   - Simplify code by writing once and reusing multiple times through function calls.  \n",
    "   - Easy maintenance: Modify a single function block, and changes apply across all calls.  \n",
    "   - Enhance readability with descriptive function names that summarize tasks.  \n",
    "\n",
    "4. **Efficiency in Programming**  \n",
    "   - Functions provide trustworthiness: Once a function works correctly, it continues to do so.  \n",
    "   - One-line function calls streamline coding, reducing complexity in main program logic.  \n",
    "   - Reading a program's function calls provides a faster understanding of its operations compared to reading lengthy code blocks.  \n"
   ]
  }
 ],
 "metadata": {
  "kernelspec": {
   "display_name": "deeplearning",
   "language": "python",
   "name": "python3"
  },
  "language_info": {
   "codemirror_mode": {
    "name": "ipython",
    "version": 3
   },
   "file_extension": ".py",
   "mimetype": "text/x-python",
   "name": "python",
   "nbconvert_exporter": "python",
   "pygments_lexer": "ipython3",
   "version": "3.7.1"
  }
 },
 "nbformat": 4,
 "nbformat_minor": 2
}
