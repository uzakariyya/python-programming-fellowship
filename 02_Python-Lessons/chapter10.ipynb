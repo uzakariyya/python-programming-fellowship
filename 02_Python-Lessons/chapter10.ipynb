{
 "cells": [
  {
   "cell_type": "markdown",
   "metadata": {},
   "source": [
    "# Chapter 10 File and Exceptions"
   ]
  },
  {
   "cell_type": "markdown",
   "metadata": {},
   "source": [
    "## Learning Objectives for Today's Lecture on Files and Exceptions\n",
    "\n",
    "By the end of this chapter, you will be able to:\n",
    "\n",
    "### 1. Understand File Operations\n",
    "- Learn to work with files to enable programs to analyze large amounts of data efficiently.\n",
    "- Understand how to read from and write to files in Python.\n",
    "\n",
    "### 2. Error Handling Basics\n",
    "- Learn to handle errors to prevent program crashes in unexpected situations.\n",
    "- Understand how to make programs more robust when dealing with issues like missing files or bad data.\n",
    "\n",
    "### 3. Introduction to Exceptions\n",
    "- Explore how Python uses exceptions to manage errors that arise during program execution.\n",
    "- Learn to use exception handling to address both innocent mistakes and malicious attempts to disrupt program functionality.\n",
    "\n",
    "### 4. Utilizing the JSON Module\n",
    "- Discover how the `json` module can be used to save user data for future use.\n",
    "- Understand the process of loading and saving data in JSON format for persistence.\n",
    "\n",
    "### 5. Improving Program Usability\n",
    "- Learn how working with files and saving data enhances user experience by allowing programs to remember user input across sessions.\n",
    "- Understand how handling exceptions makes programs more stable and reliable.\n",
    "\n",
    "### 6. Building Robust Programs\n",
    "- Develop skills to make your programs more applicable, usable, and stable in real-world scenarios.\n",
    "- Address practical challenges related to file handling and error management effectively.\n"
   ]
  },
  {
   "cell_type": "markdown",
   "metadata": {},
   "source": [
    "## Reading from a File\n",
    "\n",
    "Reading the Contents of a File\n",
    "- To begin, we need a file (`pi_digits.txt`) with a few lines of text in it. \n",
    "- Let’s start with a file that contains pi to 30 decimal places, with 10 decimal places per line:"
   ]
  },
  {
   "cell_type": "code",
   "execution_count": 40,
   "metadata": {},
   "outputs": [
    {
     "name": "stdout",
     "output_type": "stream",
     "text": [
      "3.1415926535\n",
      "  8979323846\n",
      "  2643383279\n"
     ]
    }
   ],
   "source": [
    "from pathlib import Path\n",
    "\n",
    "path = Path('pi_digits.txt')\n",
    "contents = path.read_text()\n",
    "print(contents)"
   ]
  },
  {
   "cell_type": "code",
   "execution_count": null,
   "metadata": {},
   "outputs": [],
   "source": []
  },
  {
   "cell_type": "code",
   "execution_count": 41,
   "metadata": {},
   "outputs": [
    {
     "name": "stdout",
     "output_type": "stream",
     "text": [
      "3.1415926535\n",
      "  8979323846\n",
      "  2643383279\n"
     ]
    }
   ],
   "source": [
    "from pathlib import Path\n",
    "path = Path('pi_digits.txt')\n",
    "contents = path.read_text() # read_text() returns an empty string when it reaches the end of the file\n",
    "contents = contents.rstrip()\n",
    "print(contents)"
   ]
  },
  {
   "cell_type": "markdown",
   "metadata": {},
   "source": [
    "We can strip the trailing newline character when we read the contents of the file, by applying the `rstrip()` method immediately after calling\n",
    "`read_text()`:"
   ]
  },
  {
   "cell_type": "code",
   "execution_count": 5,
   "metadata": {},
   "outputs": [],
   "source": [
    "contents = path.read_text().rstrip() # this approach is called method chaining"
   ]
  },
  {
   "cell_type": "markdown",
   "metadata": {},
   "source": [
    "## Relative and Absolute File Paths\n",
    "\n",
    "- There are two main ways to specify paths in programming. \n",
    "- A relative file path tells Python to look for a given location relative to the directory where the currently running program file is stored.\n",
    "- You can also tell Python exactly where the file is on your computer, regardless of where the program that’s being executed is stored. This is called an `absolute file path`\n",
    "- Windows systems use a backslash `(\\)` instead of a forward slash `(/)` when displaying file paths, but you should use forward slashes in your code, even on Windows. \n",
    "- The `pathlib` library will automatically use the correct representation of the path when it interacts with your system, or any user’s system."
   ]
  },
  {
   "cell_type": "code",
   "execution_count": null,
   "metadata": {},
   "outputs": [],
   "source": [
    "C:\\Users\\userr\\Documents\\GitHub\\ArewaDataScience\\python-programming-fellowship\\02_Python-Lessons\\pi_digits.txt"
   ]
  },
  {
   "cell_type": "code",
   "execution_count": null,
   "metadata": {},
   "outputs": [],
   "source": [
    "\\n \\t"
   ]
  },
  {
   "cell_type": "code",
   "execution_count": 43,
   "metadata": {},
   "outputs": [
    {
     "name": "stdout",
     "output_type": "stream",
     "text": [
      "3.1415926535\n",
      "  8979323846\n",
      "  2643383279\n"
     ]
    }
   ],
   "source": [
    "from pathlib import Path\n",
    "path = Path(r\"C:\\Users\\userr\\Documents\\GitHub\\ArewaDataScience\\python-programming-fellowship\\02_Python-Lessons\\text_files\\pi_digits.txt\")\n",
    "contents = path.read_text() # read_text() returns an empty string when it reaches the end of the file\n",
    "contents = contents.rstrip()\n",
    "print(contents)"
   ]
  },
  {
   "cell_type": "code",
   "execution_count": 45,
   "metadata": {},
   "outputs": [
    {
     "data": {
      "text/plain": [
       "3.142857142857143"
      ]
     },
     "execution_count": 45,
     "metadata": {},
     "output_type": "execute_result"
    }
   ],
   "source": [
    "PI = 22/7"
   ]
  },
  {
   "cell_type": "code",
   "execution_count": 44,
   "metadata": {},
   "outputs": [
    {
     "name": "stdout",
     "output_type": "stream",
     "text": [
      "3.1415926535\n",
      "  8979323846\n",
      "  2643383279\n"
     ]
    }
   ],
   "source": [
    "from pathlib import Path\n",
    "path = Path(r\"text_files\\pi_digits.txt\")\n",
    "contents = path.read_text() # read_text() returns an empty string when it reaches the end of the file\n",
    "contents = contents.rstrip()\n",
    "print(contents)"
   ]
  },
  {
   "cell_type": "code",
   "execution_count": null,
   "metadata": {},
   "outputs": [],
   "source": [
    "from pathlib import Path\n",
    "path = Path(r\"..\\00_Stage-1-Getting-Started\\\")\n",
    "contents = path.read_text() # read_text() returns an empty string when it reaches the end of the file\n",
    "contents = contents.rstrip()\n",
    "print(contents)"
   ]
  },
  {
   "cell_type": "markdown",
   "metadata": {},
   "source": [
    "## Accessing a File’s Lines\n",
    "When you’re working with a file, you’ll often want to examine each line of the file. You might be looking for certain information in the file, or you might want to modify the text in the file in some way. \n",
    "\n",
    "For example:\n",
    "- You might want to read through a file of weather data and work with any line that includes the word **sunny** in the description of that day’s weather.  \n",
    "- In a news report, you might look for any line with the tag `<headline>` and rewrite that line with a specific kind of formatting.\n",
    "\n",
    "You can use the `splitlines()` method to turn a long string into a set of lines, and then use a `for` loop to examine each line from a file, one at a time:\n"
   ]
  },
  {
   "cell_type": "code",
   "execution_count": 47,
   "metadata": {},
   "outputs": [
    {
     "name": "stdout",
     "output_type": "stream",
     "text": [
      "3.1415926535\n",
      "  8979323846\n",
      "  2643383279\n"
     ]
    }
   ],
   "source": [
    "from pathlib import Path\n",
    "\n",
    "path = Path('pi_digits.txt')\n",
    "contents = path.read_text()\n",
    "lines = contents.splitlines()\n",
    "\n",
    "# print(lines)\n",
    "for line in lines:\n",
    "    print(line)\n",
    "\n",
    "# print(lines[0])\n",
    "# print(lines[1])\n",
    "# print(lines[2])"
   ]
  },
  {
   "cell_type": "code",
   "execution_count": 48,
   "metadata": {},
   "outputs": [
    {
     "name": "stdout",
     "output_type": "stream",
     "text": [
      "23\n",
      "32\n",
      "21\n",
      "30\n",
      "36\n",
      "39\n",
      "40\n",
      "32\n",
      "30\n"
     ]
    }
   ],
   "source": [
    "from pathlib import Path\n",
    "\n",
    "path = Path('weather.txt')\n",
    "\n",
    "contents = path.read_text()\n",
    "lines = contents.splitlines()\n",
    "for line in lines:\n",
    "    print(line)"
   ]
  },
  {
   "cell_type": "code",
   "execution_count": null,
   "metadata": {},
   "outputs": [],
   "source": [
    "input()"
   ]
  },
  {
   "cell_type": "markdown",
   "metadata": {},
   "source": [
    "## Working with a File’s Contents"
   ]
  },
  {
   "cell_type": "code",
   "execution_count": null,
   "metadata": {},
   "outputs": [],
   "source": [
    "from pathlib import Path\n",
    "\n",
    "def farenheit(temp_in_f):\n",
    "    temp_in_f = float(temp_in_f)\n",
    "    temp_in_f = temp_in_f * 9/5 + 32\n",
    "    return temp_in_f\n",
    "\n",
    "path = Path('weather.txt')\n",
    "\n",
    "contents = path.read_text()\n",
    "lines = contents.splitlines()\n",
    "for line in lines:\n",
    "    print(farenheit(line))"
   ]
  },
  {
   "cell_type": "markdown",
   "metadata": {},
   "source": [
    "When Python reads from a text file, it interprets all text in the file as a string. If you\n",
    "read in a number and want to work with that value in a numerical context, you’ll\n",
    "have to convert it to an integer using the `int()` function or a float using the `float()`\n",
    "function."
   ]
  },
  {
   "cell_type": "code",
   "execution_count": 49,
   "metadata": {},
   "outputs": [
    {
     "name": "stdout",
     "output_type": "stream",
     "text": [
      "3.1415926535  8979323846  2643383279\n",
      "36\n"
     ]
    }
   ],
   "source": [
    "from pathlib import Path\n",
    "path = Path('pi_digits.txt')\n",
    "contents = path.read_text()\n",
    "lines = contents.splitlines()\n",
    "pi_string = ''\n",
    "for line in lines:\n",
    "    pi_string += line\n",
    "print(pi_string)\n",
    "print(len(pi_string))"
   ]
  },
  {
   "cell_type": "code",
   "execution_count": 50,
   "metadata": {},
   "outputs": [
    {
     "name": "stdout",
     "output_type": "stream",
     "text": [
      "3.141592653589793238462643383279\n",
      "32\n"
     ]
    }
   ],
   "source": [
    "from pathlib import Path\n",
    "path = Path('pi_digits.txt')\n",
    "contents = path.read_text()\n",
    "lines = contents.splitlines()\n",
    "pi_string = ''\n",
    "for line in lines:\n",
    "    pi_string += line.lstrip()\n",
    "print(pi_string)\n",
    "print(len(pi_string))"
   ]
  },
  {
   "cell_type": "markdown",
   "metadata": {},
   "source": [
    "## Large Files: One Million Digits\n",
    "When Python reads from a text file, it interprets all text in the file as a string. \n",
    "If you read in a number and want to work with that value in a numerical context, you’ll\n",
    "have to convert it to an integer using the int() function or a float using the float()\n",
    "function."
   ]
  },
  {
   "cell_type": "code",
   "execution_count": 51,
   "metadata": {},
   "outputs": [
    {
     "name": "stdout",
     "output_type": "stream",
     "text": [
      "3.14159265358979323846264338327950288419716939937510...\n",
      "1000002\n"
     ]
    }
   ],
   "source": [
    "from pathlib import Path\n",
    "path = Path('pi_million_digits.txt')\n",
    "contents = path.read_text()\n",
    "lines = contents.splitlines()\n",
    "pi_string = ''\n",
    "for line in lines:\n",
    "    pi_string += line.lstrip()\n",
    "    \n",
    "print(f\"{pi_string[:52]}...\")\n",
    "print(len(pi_string))"
   ]
  },
  {
   "cell_type": "code",
   "execution_count": 53,
   "metadata": {},
   "outputs": [
    {
     "data": {
      "text/plain": [
       "'ew'"
      ]
     },
     "execution_count": 53,
     "metadata": {},
     "output_type": "execute_result"
    }
   ],
   "source": [
    "name = \"Arewa Data Science\"\n",
    "name[2:4]"
   ]
  },
  {
   "cell_type": "code",
   "execution_count": 55,
   "metadata": {},
   "outputs": [
    {
     "name": "stdout",
     "output_type": "stream",
     "text": [
      "Your birthday appears in the first million digits of pi!\n"
     ]
    }
   ],
   "source": [
    "from pathlib import Path\n",
    "path = Path('pi_million_digits.txt')\n",
    "contents = path.read_text()\n",
    "lines = contents.splitlines()\n",
    "pi_string = ''\n",
    "for line in lines:\n",
    "    pi_string += line.lstrip()\n",
    "    \n",
    "birthday = input(\"Enter your birthday, in the form mmddyy: \") # 021094\n",
    "if birthday in pi_string:\n",
    "    print(\"Your birthday appears in the first million digits of pi!\")\n",
    "else:\n",
    "    print(\"Your birthday does not appear in the first million digits of pi.\")"
   ]
  },
  {
   "cell_type": "markdown",
   "metadata": {},
   "source": [
    "## Writing to a File\n",
    "Writing a Single Line Once you have a path defined, you can write to a file using the `write_text()` method. \n",
    "To see how this works, let’s write a simple message and store it in a file instead of printing it to the screen:"
   ]
  },
  {
   "cell_type": "code",
   "execution_count": 58,
   "metadata": {},
   "outputs": [
    {
     "data": {
      "text/plain": [
       "19"
      ]
     },
     "execution_count": 58,
     "metadata": {},
     "output_type": "execute_result"
    }
   ],
   "source": [
    "from pathlib import Path\n",
    "\n",
    "path = Path('programming_02.txt')\n",
    "path.write_text(\"I love programming.\")"
   ]
  },
  {
   "cell_type": "markdown",
   "metadata": {},
   "source": [
    "## Writing Multiple Lines\n",
    "The write_text() method does a few things behind the scenes. \n",
    "If the file that path points to doesn’t exist, it creates that file. \n",
    "Also, after writing the string to the file, it makes sure the file is closed properly. \n",
    "Files that aren’t closed properly can lead to missing or corrupted data."
   ]
  },
  {
   "cell_type": "code",
   "execution_count": null,
   "metadata": {},
   "outputs": [],
   "source": [
    "from pathlib import Path\n",
    "contents = \"I love programming.\\n\"\n",
    "contents += \"I love creating new games.\\n\"\n",
    "contents += \"I also love working with data.\\n\"\n",
    "path = Path('programming.txt')\n",
    "path.write_text(contents)"
   ]
  },
  {
   "cell_type": "markdown",
   "metadata": {},
   "source": [
    "![Note]\n",
    "- Be careful when calling write_text() on a path object. \n",
    "- If the file already exists, write_text() will erase the current contents of the file and write new contents\n",
    "to the file. \n",
    "- Later in this chapter, you’ll learn to check whether a file exists using\n",
    "pathlib."
   ]
  },
  {
   "cell_type": "markdown",
   "metadata": {},
   "source": [
    "## Exceptions\n",
    "\n",
    "- Python uses special objects called exceptions to manage errors that arise during a program’s execution. \n",
    "- Whenever an error occurs that makes Python unsure of what to do next, it creates an exception object. \n",
    "- If you write code that handles the exception, the program will continue running. \n",
    "- If you don’t handle the exception, the program will halt and show a traceback, which includes a report of the exception that was raised"
   ]
  },
  {
   "cell_type": "markdown",
   "metadata": {},
   "source": [
    "## Handling the ZeroDivisionError Exception"
   ]
  },
  {
   "cell_type": "code",
   "execution_count": 59,
   "metadata": {},
   "outputs": [],
   "source": [
    "def div(num1, num2):\n",
    "    result = num1 / num2\n",
    "    return result"
   ]
  },
  {
   "cell_type": "code",
   "execution_count": 62,
   "metadata": {},
   "outputs": [
    {
     "ename": "ZeroDivisionError",
     "evalue": "division by zero",
     "output_type": "error",
     "traceback": [
      "\u001b[1;31m---------------------------------------------------------------------------\u001b[0m",
      "\u001b[1;31mZeroDivisionError\u001b[0m                         Traceback (most recent call last)",
      "Cell \u001b[1;32mIn[62], line 1\u001b[0m\n\u001b[1;32m----> 1\u001b[0m \u001b[43mdiv\u001b[49m\u001b[43m(\u001b[49m\u001b[38;5;241;43m2\u001b[39;49m\u001b[43m,\u001b[49m\u001b[38;5;241;43m0\u001b[39;49m\u001b[43m)\u001b[49m\n",
      "Cell \u001b[1;32mIn[59], line 2\u001b[0m, in \u001b[0;36mdiv\u001b[1;34m(num1, num2)\u001b[0m\n\u001b[0;32m      1\u001b[0m \u001b[38;5;28;01mdef\u001b[39;00m \u001b[38;5;21mdiv\u001b[39m(num1, num2):\n\u001b[1;32m----> 2\u001b[0m     result \u001b[38;5;241m=\u001b[39m \u001b[43mnum1\u001b[49m\u001b[43m \u001b[49m\u001b[38;5;241;43m/\u001b[39;49m\u001b[43m \u001b[49m\u001b[43mnum2\u001b[49m\n\u001b[0;32m      3\u001b[0m     \u001b[38;5;28;01mreturn\u001b[39;00m result\n",
      "\u001b[1;31mZeroDivisionError\u001b[0m: division by zero"
     ]
    }
   ],
   "source": [
    "div(2,0)"
   ]
  },
  {
   "cell_type": "code",
   "execution_count": 64,
   "metadata": {},
   "outputs": [
    {
     "data": {
      "text/plain": [
       "1e+166"
      ]
     },
     "execution_count": 64,
     "metadata": {},
     "output_type": "execute_result"
    }
   ],
   "source": [
    "div(1,0.0000000000000000000000000000000000000000000000000000000000000000000000000000000000000000000000000000000000000000000000000000000000000000000000000000000000000000000001)"
   ]
  },
  {
   "cell_type": "code",
   "execution_count": 63,
   "metadata": {},
   "outputs": [
    {
     "ename": "ZeroDivisionError",
     "evalue": "division by zero",
     "output_type": "error",
     "traceback": [
      "\u001b[1;31m---------------------------------------------------------------------------\u001b[0m",
      "\u001b[1;31mZeroDivisionError\u001b[0m                         Traceback (most recent call last)",
      "Cell \u001b[1;32mIn[63], line 1\u001b[0m\n\u001b[1;32m----> 1\u001b[0m \u001b[38;5;28mprint\u001b[39m(\u001b[38;5;241;43m5\u001b[39;49m\u001b[38;5;241;43m/\u001b[39;49m\u001b[38;5;241;43m0\u001b[39;49m)\n",
      "\u001b[1;31mZeroDivisionError\u001b[0m: division by zero"
     ]
    }
   ],
   "source": [
    "print(5/0)"
   ]
  },
  {
   "cell_type": "code",
   "execution_count": 65,
   "metadata": {},
   "outputs": [],
   "source": [
    "def div_2(num1, num2):\n",
    "    if num2 == 0:\n",
    "        raise ZeroDivisionError(\"Cannot divide by zero.\")\n",
    "    result = num1 / num2\n",
    "    return result"
   ]
  },
  {
   "cell_type": "code",
   "execution_count": 67,
   "metadata": {},
   "outputs": [
    {
     "ename": "ZeroDivisionError",
     "evalue": "Cannot divide by zero.",
     "output_type": "error",
     "traceback": [
      "\u001b[1;31m---------------------------------------------------------------------------\u001b[0m",
      "\u001b[1;31mZeroDivisionError\u001b[0m                         Traceback (most recent call last)",
      "Cell \u001b[1;32mIn[67], line 1\u001b[0m\n\u001b[1;32m----> 1\u001b[0m \u001b[43mdiv_2\u001b[49m\u001b[43m(\u001b[49m\u001b[38;5;241;43m2\u001b[39;49m\u001b[43m,\u001b[49m\u001b[38;5;241;43m0\u001b[39;49m\u001b[43m)\u001b[49m\n",
      "Cell \u001b[1;32mIn[65], line 3\u001b[0m, in \u001b[0;36mdiv_2\u001b[1;34m(num1, num2)\u001b[0m\n\u001b[0;32m      1\u001b[0m \u001b[38;5;28;01mdef\u001b[39;00m \u001b[38;5;21mdiv_2\u001b[39m(num1, num2):\n\u001b[0;32m      2\u001b[0m     \u001b[38;5;28;01mif\u001b[39;00m num2 \u001b[38;5;241m==\u001b[39m \u001b[38;5;241m0\u001b[39m:\n\u001b[1;32m----> 3\u001b[0m         \u001b[38;5;28;01mraise\u001b[39;00m \u001b[38;5;167;01mZeroDivisionError\u001b[39;00m(\u001b[38;5;124m\"\u001b[39m\u001b[38;5;124mCannot divide by zero.\u001b[39m\u001b[38;5;124m\"\u001b[39m)\n\u001b[0;32m      4\u001b[0m     result \u001b[38;5;241m=\u001b[39m num1 \u001b[38;5;241m/\u001b[39m num2\n\u001b[0;32m      5\u001b[0m     \u001b[38;5;28;01mreturn\u001b[39;00m result\n",
      "\u001b[1;31mZeroDivisionError\u001b[0m: Cannot divide by zero."
     ]
    }
   ],
   "source": [
    "div_2(2,0)"
   ]
  },
  {
   "cell_type": "markdown",
   "metadata": {},
   "source": [
    "## Using try-except Blocks"
   ]
  },
  {
   "cell_type": "code",
   "execution_count": 70,
   "metadata": {},
   "outputs": [
    {
     "name": "stdout",
     "output_type": "stream",
     "text": [
      "You can't divide by zero!\n"
     ]
    }
   ],
   "source": [
    "try:\n",
    "    print(5/0)\n",
    "except ZeroDivisionError:\n",
    "    print(\"You can't divide by zero!\")"
   ]
  },
  {
   "cell_type": "markdown",
   "metadata": {},
   "source": [
    "## Using Exceptions to Prevent Crashes\n"
   ]
  },
  {
   "cell_type": "code",
   "execution_count": 72,
   "metadata": {},
   "outputs": [
    {
     "name": "stdout",
     "output_type": "stream",
     "text": [
      "Give me two numbers, and I'll divide them.\n",
      "Enter 'q' to quit.\n"
     ]
    },
    {
     "ename": "ZeroDivisionError",
     "evalue": "division by zero",
     "output_type": "error",
     "traceback": [
      "\u001b[1;31m---------------------------------------------------------------------------\u001b[0m",
      "\u001b[1;31mZeroDivisionError\u001b[0m                         Traceback (most recent call last)",
      "Cell \u001b[1;32mIn[72], line 11\u001b[0m\n\u001b[0;32m      9\u001b[0m \u001b[38;5;28;01mif\u001b[39;00m second_number \u001b[38;5;241m==\u001b[39m \u001b[38;5;124m'\u001b[39m\u001b[38;5;124mq\u001b[39m\u001b[38;5;124m'\u001b[39m:\n\u001b[0;32m     10\u001b[0m     \u001b[38;5;28;01mbreak\u001b[39;00m\n\u001b[1;32m---> 11\u001b[0m answer \u001b[38;5;241m=\u001b[39m \u001b[38;5;28;43mint\u001b[39;49m\u001b[43m(\u001b[49m\u001b[43mfirst_number\u001b[49m\u001b[43m)\u001b[49m\u001b[43m \u001b[49m\u001b[38;5;241;43m/\u001b[39;49m\u001b[43m \u001b[49m\u001b[38;5;28;43mint\u001b[39;49m\u001b[43m(\u001b[49m\u001b[43msecond_number\u001b[49m\u001b[43m)\u001b[49m\n\u001b[0;32m     12\u001b[0m \u001b[38;5;28mprint\u001b[39m(answer)\n",
      "\u001b[1;31mZeroDivisionError\u001b[0m: division by zero"
     ]
    }
   ],
   "source": [
    "print(\"Give me two numbers, and I'll divide them.\")\n",
    "print(\"Enter 'q' to quit.\")\n",
    "\n",
    "while True:\n",
    "    first_number = input(\"\\nFirst number: \")\n",
    "    if first_number == 'q':\n",
    "        break\n",
    "    second_number = input(\"Second number: \")\n",
    "    if second_number == 'q':\n",
    "        break\n",
    "    answer = int(first_number) / int(second_number)\n",
    "    print(answer)"
   ]
  },
  {
   "cell_type": "markdown",
   "metadata": {},
   "source": [
    "## The else Block"
   ]
  },
  {
   "cell_type": "code",
   "execution_count": 73,
   "metadata": {},
   "outputs": [
    {
     "name": "stdout",
     "output_type": "stream",
     "text": [
      "Give me two numbers, and I'll divide them.\n",
      "Enter 'q' to quit.\n",
      "6.0\n",
      "2.0\n",
      "You can't divide by 0!\n"
     ]
    }
   ],
   "source": [
    "print(\"Give me two numbers, and I'll divide them.\")\n",
    "print(\"Enter 'q' to quit.\")\n",
    "while True:\n",
    "    first_number = input(\"\\nFirst number: \")\n",
    "    if first_number == 'q':\n",
    "        break\n",
    "    second_number = input(\"Second number: \")\n",
    "    if second_number == 'q':\n",
    "        break\n",
    "    try:\n",
    "        answer = int(first_number) / int(second_number)\n",
    "    except ZeroDivisionError:\n",
    "        print(\"You can't divide by 0!\")\n",
    "    else:\n",
    "        print(answer)\n",
    "\n"
   ]
  },
  {
   "cell_type": "markdown",
   "metadata": {},
   "source": [
    "## Handling the FileNotFoundError Exception"
   ]
  },
  {
   "cell_type": "code",
   "execution_count": 106,
   "metadata": {},
   "outputs": [
    {
     "ename": "FileNotFoundError",
     "evalue": "[Errno 2] No such file or directory: 'alice.txt'",
     "output_type": "error",
     "traceback": [
      "\u001b[1;31m---------------------------------------------------------------------------\u001b[0m",
      "\u001b[1;31mFileNotFoundError\u001b[0m                         Traceback (most recent call last)",
      "Cell \u001b[1;32mIn[106], line 4\u001b[0m\n\u001b[0;32m      1\u001b[0m \u001b[38;5;28;01mfrom\u001b[39;00m \u001b[38;5;21;01mpathlib\u001b[39;00m \u001b[38;5;28;01mimport\u001b[39;00m Path\n\u001b[0;32m      3\u001b[0m path \u001b[38;5;241m=\u001b[39m Path(\u001b[38;5;124m'\u001b[39m\u001b[38;5;124malice.txt\u001b[39m\u001b[38;5;124m'\u001b[39m)\n\u001b[1;32m----> 4\u001b[0m contents \u001b[38;5;241m=\u001b[39m \u001b[43mpath\u001b[49m\u001b[38;5;241;43m.\u001b[39;49m\u001b[43mread_text\u001b[49m\u001b[43m(\u001b[49m\u001b[43mencoding\u001b[49m\u001b[38;5;241;43m=\u001b[39;49m\u001b[38;5;124;43m'\u001b[39;49m\u001b[38;5;124;43mutf-8\u001b[39;49m\u001b[38;5;124;43m'\u001b[39;49m\u001b[43m)\u001b[49m\n",
      "File \u001b[1;32mc:\\Users\\userr\\anaconda3\\envs\\nlptools\\Lib\\pathlib.py:1027\u001b[0m, in \u001b[0;36mPath.read_text\u001b[1;34m(self, encoding, errors)\u001b[0m\n\u001b[0;32m   1023\u001b[0m \u001b[38;5;250m\u001b[39m\u001b[38;5;124;03m\"\"\"\u001b[39;00m\n\u001b[0;32m   1024\u001b[0m \u001b[38;5;124;03mOpen the file in text mode, read it, and close the file.\u001b[39;00m\n\u001b[0;32m   1025\u001b[0m \u001b[38;5;124;03m\"\"\"\u001b[39;00m\n\u001b[0;32m   1026\u001b[0m encoding \u001b[38;5;241m=\u001b[39m io\u001b[38;5;241m.\u001b[39mtext_encoding(encoding)\n\u001b[1;32m-> 1027\u001b[0m \u001b[38;5;28;01mwith\u001b[39;00m \u001b[38;5;28;43mself\u001b[39;49m\u001b[38;5;241;43m.\u001b[39;49m\u001b[43mopen\u001b[49m\u001b[43m(\u001b[49m\u001b[43mmode\u001b[49m\u001b[38;5;241;43m=\u001b[39;49m\u001b[38;5;124;43m'\u001b[39;49m\u001b[38;5;124;43mr\u001b[39;49m\u001b[38;5;124;43m'\u001b[39;49m\u001b[43m,\u001b[49m\u001b[43m \u001b[49m\u001b[43mencoding\u001b[49m\u001b[38;5;241;43m=\u001b[39;49m\u001b[43mencoding\u001b[49m\u001b[43m,\u001b[49m\u001b[43m \u001b[49m\u001b[43merrors\u001b[49m\u001b[38;5;241;43m=\u001b[39;49m\u001b[43merrors\u001b[49m\u001b[43m)\u001b[49m \u001b[38;5;28;01mas\u001b[39;00m f:\n\u001b[0;32m   1028\u001b[0m     \u001b[38;5;28;01mreturn\u001b[39;00m f\u001b[38;5;241m.\u001b[39mread()\n",
      "File \u001b[1;32mc:\\Users\\userr\\anaconda3\\envs\\nlptools\\Lib\\pathlib.py:1013\u001b[0m, in \u001b[0;36mPath.open\u001b[1;34m(self, mode, buffering, encoding, errors, newline)\u001b[0m\n\u001b[0;32m   1011\u001b[0m \u001b[38;5;28;01mif\u001b[39;00m \u001b[38;5;124m\"\u001b[39m\u001b[38;5;124mb\u001b[39m\u001b[38;5;124m\"\u001b[39m \u001b[38;5;129;01mnot\u001b[39;00m \u001b[38;5;129;01min\u001b[39;00m mode:\n\u001b[0;32m   1012\u001b[0m     encoding \u001b[38;5;241m=\u001b[39m io\u001b[38;5;241m.\u001b[39mtext_encoding(encoding)\n\u001b[1;32m-> 1013\u001b[0m \u001b[38;5;28;01mreturn\u001b[39;00m \u001b[43mio\u001b[49m\u001b[38;5;241;43m.\u001b[39;49m\u001b[43mopen\u001b[49m\u001b[43m(\u001b[49m\u001b[38;5;28;43mself\u001b[39;49m\u001b[43m,\u001b[49m\u001b[43m \u001b[49m\u001b[43mmode\u001b[49m\u001b[43m,\u001b[49m\u001b[43m \u001b[49m\u001b[43mbuffering\u001b[49m\u001b[43m,\u001b[49m\u001b[43m \u001b[49m\u001b[43mencoding\u001b[49m\u001b[43m,\u001b[49m\u001b[43m \u001b[49m\u001b[43merrors\u001b[49m\u001b[43m,\u001b[49m\u001b[43m \u001b[49m\u001b[43mnewline\u001b[49m\u001b[43m)\u001b[49m\n",
      "\u001b[1;31mFileNotFoundError\u001b[0m: [Errno 2] No such file or directory: 'alice.txt'"
     ]
    }
   ],
   "source": [
    "from pathlib import Path\n",
    "\n",
    "path = Path('alice.txt')\n",
    "contents = path.read_text(encoding='utf-8')"
   ]
  },
  {
   "cell_type": "code",
   "execution_count": 75,
   "metadata": {},
   "outputs": [
    {
     "name": "stdout",
     "output_type": "stream",
     "text": [
      "Sorry, the file alice.txt does not exist.\n"
     ]
    }
   ],
   "source": [
    "from pathlib import Path\n",
    "path = Path('alice.txt')\n",
    "try:\n",
    "    contents = path.read_text(encoding='utf-8')\n",
    "except FileNotFoundError:\n",
    "    print(f\"Sorry, the file {path} does not exist.\")"
   ]
  },
  {
   "cell_type": "markdown",
   "metadata": {},
   "source": [
    "##  Handling Multiple Exceptions\n",
    "- For each `try` block in your code, there can be zero or more `except` blocks. \n",
    "- Multiple except blocks allow us to handle each exception differently.\n",
    "- The argument type of each except block indicates the type of exception that can be handled by it. \n",
    "- For example; `ZeroDivisionError`, `ValueError`, `IndexError`, `FileNotFoundError` and so on"
   ]
  },
  {
   "cell_type": "markdown",
   "metadata": {},
   "source": [
    "## Common Exceptions in Python\n",
    "\n",
    "Python provides several built-in exceptions that can be handled using `try...except` blocks. Below is a list of notable ones:\n",
    "\n",
    "### 1. General Exceptions\n",
    "- **Exception**: Base class for all exceptions (not recommended for specific error handling).\n",
    "\n",
    "### 2. System-Related Exceptions\n",
    "- **SystemExit**: Raised when `sys.exit()` is called.\n",
    "- **KeyboardInterrupt**: Raised when the user interrupts program execution (e.g., pressing Ctrl+C).\n",
    "- **MemoryError**: Raised when an operation runs out of memory.\n",
    "\n",
    "### 3. Arithmetic Exceptions\n",
    "- **ZeroDivisionError**: Raised when dividing by zero.\n",
    "- **OverflowError**: Raised when a numerical operation exceeds the limits of the numeric type.\n",
    "- **FloatingPointError**: Raised when a floating-point operation fails.\n",
    "\n",
    "### 4. Attribute and Lookup Errors\n",
    "- **AttributeError**: Raised when an invalid attribute reference or assignment is made.\n",
    "- **KeyError**: Raised when a dictionary key is not found.\n",
    "- **IndexError**: Raised when a sequence index is out of range.\n",
    "\n",
    "## 5. Input/Output Exceptions\n",
    "- **IOError**: Raised when an I/O operation (e.g., file opening) fails.\n",
    "- **FileNotFoundError**: Raised when a file or directory is requested but does not exist.\n",
    "- **EOFError**: Raised when input() hits end-of-file condition.\n",
    "\n",
    "### 6. Import Errors\n",
    "- **ImportError**: Raised when an import statement fails.\n",
    "- **ModuleNotFoundError**: A subclass of `ImportError` for missing modules.\n",
    "\n",
    "### 7. Value and Type Errors\n",
    "- **ValueError**: Raised when a function receives an argument of the right type but an inappropriate value.\n",
    "- **TypeError**: Raised when an operation or function is applied to an object of inappropriate type.\n",
    "\n",
    "### 8. Specific Built-In Errors\n",
    "- **AssertionError**: Raised when an assertion statement fails.\n",
    "- **NameError**: Raised when a variable is not found in the local or global namespace.\n",
    "- **UnboundLocalError**: A subclass of `NameError` for uninitialized local variables.\n",
    "\n",
    "### 9. OS-Related Exceptions\n",
    "- **OSError**: Base class for OS-related errors.\n",
    "  - **FileExistsError**: Raised when trying to create a file or directory that already exists.\n",
    "  - **PermissionError**: Raised when there’s a permission issue.\n",
    "\n",
    "### 10. Runtime and Syntax Errors\n",
    "- **RuntimeError**: A generic error for issues that do not fall into other categories.\n",
    "- **RecursionError**: Raised when the maximum recursion depth is exceeded.\n",
    "- **SyntaxError**: Raised when there’s an error in Python syntax.\n",
    "\n",
    "### 11. Warnings (Not Exceptions but Can Be Handled)\n",
    "- **DeprecationWarning**: Warns about deprecated features.\n",
    "- **SyntaxWarning**: Warns about questionable syntax.\n",
    "- **RuntimeWarning**: Warns about suspicious runtime behavior."
   ]
  },
  {
   "cell_type": "markdown",
   "metadata": {},
   "source": [
    "## Analyzing Text"
   ]
  },
  {
   "cell_type": "code",
   "execution_count": 107,
   "metadata": {},
   "outputs": [
    {
     "name": "stdout",
     "output_type": "stream",
     "text": [
      "The file exceptions\\alice.txt has about 29594 words.\n"
     ]
    }
   ],
   "source": [
    "from pathlib import Path\n",
    "path = Path('exceptions/alice.txt')\n",
    "try:\n",
    "    contents = path.read_text(encoding='utf-8')\n",
    "except FileNotFoundError:\n",
    "    print(f\"Sorry, the file {path} does not exist.\")\n",
    "else:\n",
    "    # Count the approximate number of words in the file:\n",
    "    words = contents.split()\n",
    "    num_words = len(words)\n",
    "    print(f\"The file {path} has about {num_words} words.\")\n"
   ]
  },
  {
   "cell_type": "markdown",
   "metadata": {},
   "source": [
    "<pre><strong>\n",
    "The count is a little high because extra information is provided by the publisher in the text file used here, \n",
    "but it’s a good approximation of the length of Alice in Wonderland.</strong></pre>"
   ]
  },
  {
   "cell_type": "markdown",
   "metadata": {},
   "source": [
    "## Working with Multiple Files"
   ]
  },
  {
   "cell_type": "code",
   "execution_count": 113,
   "metadata": {},
   "outputs": [],
   "source": [
    "from pathlib import Path\n",
    "\n",
    "def count_words(path):\n",
    "    \"\"\"Count the approximate number of words in a file.\"\"\"\n",
    "    try:\n",
    "        contents = path.read_text(encoding='utf-8')\n",
    "    except FileNotFoundError:\n",
    "        print(f\"Sorry, the file {path} does not exist.\")\n",
    "    else:\n",
    "        # Count the approximate number of words in the file:\n",
    "        words = contents.split()\n",
    "        num_words = len(words)\n",
    "        print(f\"The file {path} has about {num_words} words.\")"
   ]
  },
  {
   "cell_type": "code",
   "execution_count": 111,
   "metadata": {},
   "outputs": [
    {
     "data": {
      "text/plain": [
       "WindowsPath('alice.txt')"
      ]
     },
     "execution_count": 111,
     "metadata": {},
     "output_type": "execute_result"
    }
   ],
   "source": [
    "path = Path('alice.txt')\n",
    "# count_words(path)\n",
    "path"
   ]
  },
  {
   "cell_type": "code",
   "execution_count": 109,
   "metadata": {},
   "outputs": [
    {
     "name": "stdout",
     "output_type": "stream",
     "text": [
      "The file exceptions\\alice.txt has about 29594 words.\n"
     ]
    }
   ],
   "source": [
    "path = Path('exceptions/alice.txt')\n",
    "count_words(path)"
   ]
  },
  {
   "cell_type": "code",
   "execution_count": 114,
   "metadata": {},
   "outputs": [
    {
     "name": "stdout",
     "output_type": "stream",
     "text": [
      "The file exceptions\\alice.txt has about 29594 words.\n",
      "Sorry, the file exceptions\\siddhartha.txt does not exist.\n",
      "The file exceptions\\moby_dick.txt has about 215864 words.\n",
      "The file exceptions\\little_women.txt has about 189142 words.\n"
     ]
    }
   ],
   "source": [
    "filenames = ['alice.txt', 'siddhartha.txt', 'moby_dick.txt', 'little_women.txt']\n",
    "for filename in filenames:\n",
    "    path = Path('exceptions/'+filename)\n",
    "    count_words(path)"
   ]
  },
  {
   "cell_type": "markdown",
   "metadata": {},
   "source": [
    "## Failing Silently"
   ]
  },
  {
   "cell_type": "markdown",
   "metadata": {},
   "source": [
    "# Using `pass` to Handle Exceptions Silently\n",
    "\n",
    "In some cases, you may want your program to continue running even when an exception occurs, without notifying the user. To achieve this, you can use Python's `pass` statement in the `except` block. The `pass` statement explicitly tells Python to do nothing in that block.\n",
    "\n",
    "Here’s how it works:\n",
    "\n",
    "## Example: Silent Exception Handling\n",
    "```python\n",
    "from pathlib import Path\n",
    "\n",
    "def count_words(path):\n",
    "    \"\"\"Count the approximate number of words in a file.\"\"\"\n",
    "    try:\n",
    "        contents = path.read_text(encoding='utf-8')\n",
    "    except FileNotFoundError:\n",
    "        pass\n",
    "    else:\n",
    "        # Count the approximate number of words in the file:\n",
    "        words = contents.split()\n",
    "        num_words = len(words)\n",
    "        print(f\"The file {path} has about {num_words} words.\")\n"
   ]
  },
  {
   "cell_type": "code",
   "execution_count": 115,
   "metadata": {},
   "outputs": [],
   "source": [
    "from pathlib import Path\n",
    "\n",
    "def count_words(path):\n",
    "    \"\"\"Count the approximate number of words in a file.\"\"\"\n",
    "    try:\n",
    "        contents = path.read_text(encoding='utf-8')\n",
    "    except FileNotFoundError:\n",
    "        pass\n",
    "    else:\n",
    "        # Count the approximate number of words in the file:\n",
    "        words = contents.split()\n",
    "        num_words = len(words)\n",
    "        print(f\"The file {path} has about {num_words} words.\")"
   ]
  },
  {
   "cell_type": "code",
   "execution_count": 116,
   "metadata": {},
   "outputs": [
    {
     "name": "stdout",
     "output_type": "stream",
     "text": [
      "The file exceptions\\alice.txt has about 29594 words.\n",
      "The file exceptions\\moby_dick.txt has about 215864 words.\n",
      "The file exceptions\\little_women.txt has about 189142 words.\n"
     ]
    }
   ],
   "source": [
    "filenames = ['alice.txt', 'siddhartha.txt', 'moby_dick.txt', 'little_women.txt']\n",
    "for filename in filenames:\n",
    "    path = Path('exceptions/'+filename)\n",
    "    count_words(path)"
   ]
  },
  {
   "cell_type": "markdown",
   "metadata": {},
   "source": [
    "## Deciding Which Errors to Report"
   ]
  },
  {
   "cell_type": "markdown",
   "metadata": {},
   "source": [
    "# Reporting Errors vs. Silent Failures in Python Programs\n",
    "\n",
    "When designing programs, deciding whether to report errors to users or let the program fail silently depends on the context and user expectations. Below are key considerations to guide this decision:\n",
    "\n",
    "## When to Report Errors:\n",
    "- **User Awareness**: If users know which texts or files should be analyzed, they may appreciate being informed about why certain texts were not processed.\n",
    "- **Clear Communication**: Providing error messages helps users understand what went wrong and allows them to take corrective action.\n",
    "\n",
    "## When to Let the Program Fail Silently:\n",
    "- **Unnecessary Information**: If users do not know which specific inputs are expected (e.g., analyzing multiple unknown files), reporting missing items might confuse or overwhelm them.\n",
    "- **Improved Usability**: Avoiding unnecessary error messages can enhance the user experience by focusing only on relevant outcomes.\n",
    "\n",
    "## Balancing Error Reporting:\n",
    "- Python’s error-handling structures, such as `try-except` blocks, allow fine-grained control over error communication.\n",
    "- The level of detail shared with users is a design decision that should prioritize usability.\n",
    "\n",
    "## External Dependencies and Exceptions:\n",
    "- Programs are more likely to encounter exceptions when they depend on external factors like:\n",
    "  - **User Input**: Invalid or unexpected input from users.\n",
    "  - **File Existence**: Missing or inaccessible files.\n",
    "  - **Network Availability**: Issues with connectivity or external services.\n",
    "- A well-written and thoroughly tested program minimizes internal errors (e.g., syntax or logical errors), but external dependencies remain a common source of exceptions.\n",
    "\n",
    "## Key Takeaway:\n",
    "With experience, you’ll develop an intuition for where to include exception-handling blocks and decide the appropriate amount of information to share with users.\n",
    "\n",
    "For more guidance on exception handling, refer to [Python’s Official Documentation](https://docs.python.org/3/tutorial/errors.html).\n"
   ]
  },
  {
   "cell_type": "markdown",
   "metadata": {},
   "source": [
    "# Storing Data\n",
    "\n",
    "The <strong>JSON</strong> (JavaScript Object Notation) format was originally developed for\n",
    "JavaScript. However, it has since become a common format used by many languages,\n",
    "including Python."
   ]
  },
  {
   "cell_type": "markdown",
   "metadata": {},
   "source": [
    "# Using `json.dumps()` and `json.loads()`\n",
    "\n",
    "Here’s how you can use `json.dumps()` and `json.loads()` to store and retrieve data:\n",
    "\n",
    "1. **Storing Data with `json.dumps()`**:\n",
    "   - Write a program to store a set of numbers.\n",
    "   - Use the `json.dumps()` function to convert the data to the JSON format.\n",
    "   - The function takes one argument: a piece of data to be converted into JSON format.\n",
    "   - It returns a string representation of the JSON data.\n",
    "   - You can then write this string to a data file.\n",
    "\n",
    "2. **Reading Data with `json.loads()`**:\n",
    "   - Write another program to read the JSON data back into memory.\n",
    "   - Use the `json.loads()` function to convert the JSON string back into its original Python data structure.\n",
    "\n",
    "3. **Example Workflow**:\n",
    "   - First program:\n",
    "     - Use `json.dumps()` to convert and store data in a file.\n",
    "   - Second program:\n",
    "     - Use `json.loads()` to read and load data from the file back into memory.\n"
   ]
  },
  {
   "cell_type": "code",
   "execution_count": 119,
   "metadata": {},
   "outputs": [],
   "source": [
    "from pathlib import Path\n",
    "import json\n",
    "\n",
    "numbers = [2, 3, 5, 7, 11, 13, 14, 15, 16, 17, 18, 19, 20, 21,]\n",
    "path = Path('numbers.json')\n",
    "contents = json.dumps(numbers)\n",
    "path.write_text(contents);"
   ]
  },
  {
   "cell_type": "markdown",
   "metadata": {},
   "source": [
    "Now we’ll write a separate program that uses `json.loads()`to read the\n",
    "list back into memory:"
   ]
  },
  {
   "cell_type": "code",
   "execution_count": 120,
   "metadata": {},
   "outputs": [
    {
     "name": "stdout",
     "output_type": "stream",
     "text": [
      "[2, 3, 5, 7, 11, 13, 14, 15, 16, 17, 18, 19, 20, 21]\n"
     ]
    }
   ],
   "source": [
    "from pathlib import Path\n",
    "import json\n",
    "\n",
    "path = Path('numbers.json')\n",
    "contents = path.read_text()\n",
    "numbers = json.loads(contents)\n",
    "print(numbers)"
   ]
  },
  {
   "cell_type": "markdown",
   "metadata": {},
   "source": [
    "## Saving and Reading User-Generated Data"
   ]
  },
  {
   "cell_type": "markdown",
   "metadata": {},
   "source": [
    "# Saving Data with `json`\n",
    "\n",
    "Saving data with `json` is particularly useful when working with user-generated data. Without storing user information, the data would be lost once the program stops running. \n",
    "\n",
    "Here’s an example scenario:\n",
    "\n",
    "1. **Prompting for User Input**:\n",
    "   - The program asks for the user's name the first time it is run.\n",
    "   - The name is stored using `json`.\n",
    "\n",
    "2. **Remembering User Data**:\n",
    "   - On subsequent runs, the program retrieves and remembers the user's name.\n",
    "\n",
    "3. **Storing the User's Name**:\n",
    "   - Begin by writing code to store the user's name in a JSON file for later use.\n",
    "\n",
    "This approach ensures a seamless and personalized user experience across sessions.\n"
   ]
  },
  {
   "cell_type": "code",
   "execution_count": 121,
   "metadata": {},
   "outputs": [
    {
     "name": "stdout",
     "output_type": "stream",
     "text": [
      "We'll remember you when you come back, Aremu Bala!\n"
     ]
    }
   ],
   "source": [
    "from pathlib import Path\n",
    "import json\n",
    "\n",
    "username = input(\"What is your name? \")\n",
    "path = Path('username.json')\n",
    "contents = json.dumps(username)\n",
    "path.write_text(contents)\n",
    "print(f\"We'll remember you when you come back, {username}!\")"
   ]
  },
  {
   "cell_type": "markdown",
   "metadata": {},
   "source": [
    "Now let’s write a new program that greets a user whose name has\n",
    "already been stored:"
   ]
  },
  {
   "cell_type": "code",
   "execution_count": 122,
   "metadata": {},
   "outputs": [
    {
     "name": "stdout",
     "output_type": "stream",
     "text": [
      "Welcome back, Aremu Bala!\n"
     ]
    }
   ],
   "source": [
    "from pathlib import Path\n",
    "import json\n",
    "\n",
    "path = Path('username.json')\n",
    "contents = path.read_text()\n",
    "\n",
    "username = json.loads(contents)\n",
    "print(f\"Welcome back, {username}!\")"
   ]
  },
  {
   "cell_type": "markdown",
   "metadata": {},
   "source": [
    "We could write a try-except block here to respond appropriately\n",
    "if username.json doesn’t exist, but instead we’ll use a handy method from the\n",
    "pathlib module:"
   ]
  },
  {
   "cell_type": "code",
   "execution_count": 126,
   "metadata": {},
   "outputs": [
    {
     "name": "stdout",
     "output_type": "stream",
     "text": [
      "Welcome back, !\n"
     ]
    }
   ],
   "source": [
    "from pathlib import Path\n",
    "import json\n",
    "\n",
    "path = Path('usernames.json')\n",
    "if path.exists():\n",
    "    contents = path.read_text()\n",
    "    username = json.loads(contents)\n",
    "    print(f\"Welcome back, {username}!\")\n",
    "else:\n",
    "    username = input(\"What is your name? \")\n",
    "    contents = json.dumps(username)\n",
    "    path.write_text(contents)\n",
    "    print(f\"We'll remember you when you come back, {username}!\")"
   ]
  },
  {
   "cell_type": "markdown",
   "metadata": {},
   "source": [
    "## Refactoring"
   ]
  },
  {
   "cell_type": "code",
   "execution_count": 127,
   "metadata": {},
   "outputs": [
    {
     "name": "stdout",
     "output_type": "stream",
     "text": [
      "Welcome back, Aremu Bala!\n"
     ]
    }
   ],
   "source": [
    "from pathlib import Path\n",
    "import json\n",
    "def greet_user():\n",
    "    \"\"\"Greet the user by name.\"\"\"\n",
    "    path = Path('username.json')\n",
    "    if path.exists():\n",
    "        contents = path.read_text()\n",
    "        username = json.loads(contents)\n",
    "        print(f\"Welcome back, {username}!\")\n",
    "    else:\n",
    "        username = input(\"What is your name? \")\n",
    "        contents = json.dumps(username)\n",
    "        path.write_text(contents)\n",
    "        print(f\"We'll remember you when you come back, {username}!\")\n",
    "\n",
    "greet_user()"
   ]
  },
  {
   "cell_type": "markdown",
   "metadata": {},
   "source": [
    "Let’s refactor greet_user() so it’s not doing so many different tasks. \n",
    "\n",
    "We’ll start by moving the code for retrieving a stored username to a separate function:"
   ]
  },
  {
   "cell_type": "code",
   "execution_count": 128,
   "metadata": {},
   "outputs": [
    {
     "name": "stdout",
     "output_type": "stream",
     "text": [
      "Welcome back, Aremu Bala!\n"
     ]
    }
   ],
   "source": [
    "from pathlib import Path\n",
    "import json\n",
    "def get_stored_username(path):\n",
    "    \"\"\"Get stored username if available.\"\"\"\n",
    "\n",
    "    if path.exists():\n",
    "        contents = path.read_text()\n",
    "        username = json.loads(contents)\n",
    "        return username\n",
    "    else:\n",
    "        return None\n",
    "    \n",
    "def greet_user():\n",
    "    \"\"\"Greet the user by name.\"\"\"\n",
    "    path = Path('username.json')\n",
    "    username = get_stored_username(path)\n",
    "    if username:\n",
    "        print(f\"Welcome back, {username}!\")\n",
    "    else:\n",
    "        username = input(\"What is your name? \")\n",
    "        contents = json.dumps(username)\n",
    "        path.write_text(contents)\n",
    "        print(f\"We'll remember you when you come back, {username}!\")\n",
    "\n",
    "\n",
    "greet_user()"
   ]
  },
  {
   "cell_type": "code",
   "execution_count": 129,
   "metadata": {},
   "outputs": [
    {
     "name": "stdout",
     "output_type": "stream",
     "text": [
      "Welcome back, Aremu Bala!\n"
     ]
    },
    {
     "ename": "",
     "evalue": "",
     "output_type": "error",
     "traceback": [
      "\u001b[1;31mThe Kernel crashed while executing code in the current cell or a previous cell. \n",
      "\u001b[1;31mPlease review the code in the cell(s) to identify a possible cause of the failure. \n",
      "\u001b[1;31mClick <a href='https://aka.ms/vscodeJupyterKernelCrash'>here</a> for more info. \n",
      "\u001b[1;31mView Jupyter <a href='command:jupyter.viewOutput'>log</a> for further details."
     ]
    }
   ],
   "source": [
    "from pathlib import Path\n",
    "import json\n",
    "def get_stored_username(path):\n",
    "    \"\"\"Get stored username if available.\"\"\"\n",
    "    if path.exists():\n",
    "        contents = path.read_text()\n",
    "        username = json.loads(contents)\n",
    "        return username\n",
    "    else:\n",
    "        return None\n",
    "def get_new_username(path):\n",
    "    \"\"\"Prompt for a new username.\"\"\"\n",
    "    username = input(\"What is your name? \")\n",
    "    contents = json.dumps(username)\n",
    "    path.write_text(contents)\n",
    "    return username\n",
    "def greet_user():\n",
    "    \"\"\"Greet the user by name.\"\"\"\n",
    "    path = Path('username.json')\n",
    "    username = get_stored_username(path)\n",
    "    \n",
    "    if username:\n",
    "        print(f\"Welcome back, {username}!\")\n",
    "    else:\n",
    "        username = get_new_username(path)\n",
    "        print(f\"We'll remember you when you come back, {username}!\")\n",
    "\n",
    "greet_user()"
   ]
  },
  {
   "cell_type": "markdown",
   "metadata": {},
   "source": [
    "# Chapter Summary: Working with Files\n",
    "\n",
    "In this chapter, you learned the following:\n",
    "\n",
    "1. **Reading Files**:\n",
    "   - How to read the entire contents of a file.\n",
    "   - Techniques to process the file's contents one line at a time when needed.\n",
    "\n",
    "2. **Writing to Files**:\n",
    "   - Methods to write as much text as desired to a file.\n",
    "\n",
    "3. **Handling Exceptions**:\n",
    "   - Understanding exceptions.\n",
    "   - Learning how to handle common exceptions encountered in programs.\n",
    "\n",
    "4. **Storing Data**:\n",
    "   - Techniques for storing Python data structures.\n",
    "   - Saving user-provided information to prevent users from restarting each time they run a program.\n"
   ]
  }
 ],
 "metadata": {
  "kernelspec": {
   "display_name": "nlptools",
   "language": "python",
   "name": "python3"
  },
  "language_info": {
   "codemirror_mode": {
    "name": "ipython",
    "version": 3
   },
   "file_extension": ".py",
   "mimetype": "text/x-python",
   "name": "python",
   "nbconvert_exporter": "python",
   "pygments_lexer": "ipython3",
   "version": "3.12.7"
  }
 },
 "nbformat": 4,
 "nbformat_minor": 2
}
